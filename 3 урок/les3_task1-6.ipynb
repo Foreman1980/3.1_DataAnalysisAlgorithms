{
 "cells": [
  {
   "cell_type": "code",
   "execution_count": 2,
   "metadata": {},
   "outputs": [],
   "source": [
    "import numpy as np\n",
    "import matplotlib.pyplot as plt"
   ]
  },
  {
   "cell_type": "code",
   "execution_count": 3,
   "metadata": {},
   "outputs": [],
   "source": [
    "X = np.array([[1, 1, 1, 1, 1, 1, 1, 1, 1, 1],\n",
    "              [1, 1, 2, 5, 3, 0, 5, 10, 1, 2],\n",
    "              [500, 700, 750, 600, 1450, 800, 1500, 2000, 450, 1000],\n",
    "              [1, 1, 2, 1, 2,  1, 3, 3, 1, 2]], dtype = np.float64)\n",
    "y = np.array([0, 0, 1, 0, 1, 0, 1, 0, 1, 1], dtype = np.float64)"
   ]
  },
  {
   "cell_type": "code",
   "execution_count": 4,
   "metadata": {},
   "outputs": [
    {
     "data": {
      "text/plain": [
       "array([[1.00e+00, 1.00e+00, 1.00e+00, 1.00e+00, 1.00e+00, 1.00e+00,\n",
       "        1.00e+00, 1.00e+00, 1.00e+00, 1.00e+00],\n",
       "       [1.00e+00, 1.00e+00, 2.00e+00, 5.00e+00, 3.00e+00, 0.00e+00,\n",
       "        5.00e+00, 1.00e+01, 1.00e+00, 2.00e+00],\n",
       "       [5.00e+02, 7.00e+02, 7.50e+02, 6.00e+02, 1.45e+03, 8.00e+02,\n",
       "        1.50e+03, 2.00e+03, 4.50e+02, 1.00e+03],\n",
       "       [1.00e+00, 1.00e+00, 2.00e+00, 1.00e+00, 2.00e+00, 1.00e+00,\n",
       "        3.00e+00, 3.00e+00, 1.00e+00, 2.00e+00]])"
      ]
     },
     "execution_count": 4,
     "metadata": {},
     "output_type": "execute_result"
    }
   ],
   "source": [
    "X"
   ]
  },
  {
   "cell_type": "code",
   "execution_count": 5,
   "metadata": {},
   "outputs": [
    {
     "data": {
      "text/plain": [
       "array([0., 0., 1., 0., 1., 0., 1., 0., 1., 1.])"
      ]
     },
     "execution_count": 5,
     "metadata": {},
     "output_type": "execute_result"
    }
   ],
   "source": [
    "y"
   ]
  },
  {
   "cell_type": "code",
   "execution_count": 6,
   "metadata": {},
   "outputs": [],
   "source": [
    "def calc_std_feat(x):\n",
    "    res = (x - x.mean()) / x.std()\n",
    "    return res"
   ]
  },
  {
   "cell_type": "code",
   "execution_count": 7,
   "metadata": {},
   "outputs": [],
   "source": [
    "X_st = X.copy()\n",
    "X_st[2, :] = calc_std_feat(X[2, :])"
   ]
  },
  {
   "cell_type": "code",
   "execution_count": 8,
   "metadata": {},
   "outputs": [
    {
     "data": {
      "text/plain": [
       "array([[ 1.        ,  1.        ,  1.        ,  1.        ,  1.        ,\n",
       "         1.        ,  1.        ,  1.        ,  1.        ,  1.        ],\n",
       "       [ 1.        ,  1.        ,  2.        ,  5.        ,  3.        ,\n",
       "         0.        ,  5.        , 10.        ,  1.        ,  2.        ],\n",
       "       [-0.97958969, -0.56713087, -0.46401617, -0.77336028,  0.97958969,\n",
       "        -0.36090146,  1.08270439,  2.11385144, -1.08270439,  0.05155735],\n",
       "       [ 1.        ,  1.        ,  2.        ,  1.        ,  2.        ,\n",
       "         1.        ,  3.        ,  3.        ,  1.        ,  2.        ]])"
      ]
     },
     "execution_count": 8,
     "metadata": {},
     "output_type": "execute_result"
    }
   ],
   "source": [
    "X_st"
   ]
  },
  {
   "cell_type": "code",
   "execution_count": 9,
   "metadata": {},
   "outputs": [],
   "source": [
    "def calc_logloss(y, y_pred):\n",
    "    err = - np.mean(y * np.log(y_pred) + (1.0 - y) * np.log(1.0 - y_pred))\n",
    "    err = np.sum(err)\n",
    "    return err"
   ]
  },
  {
   "cell_type": "markdown",
   "metadata": {},
   "source": [
    "## Задание № 1*.\n",
    "Измените функцию calc_logloss так, чтобы нули по возможности не попадали в np.log."
   ]
  },
  {
   "cell_type": "code",
   "execution_count": 10,
   "metadata": {},
   "outputs": [],
   "source": [
    "def sigmoid(z):\n",
    "    res = 1 / (1 + np.exp(-z))\n",
    "    return res"
   ]
  },
  {
   "cell_type": "code",
   "execution_count": 11,
   "metadata": {},
   "outputs": [],
   "source": [
    "def sigmoid_check(z):\n",
    "    if type(z) != int:\n",
    "        zz = np.copy(z)\n",
    "        for i in range(len(zz)):\n",
    "            if zz[i] > 36.73680056967710427784367:\n",
    "                zz[i] = 36.73680056967710427784367\n",
    "            elif zz[i] < -709.782712893384:\n",
    "                zz[i] = -709.782712893384\n",
    "    else:\n",
    "        zz = z\n",
    "        if zz > 36.73680056967710427784367:\n",
    "            zz = 36.73680056967710427784367\n",
    "        elif zz < -709.782712893384:\n",
    "            zz = -709.782712893384\n",
    "    return sigmoid(zz)"
   ]
  },
  {
   "cell_type": "code",
   "execution_count": 12,
   "metadata": {
    "scrolled": true
   },
   "outputs": [
    {
     "name": "stderr",
     "output_type": "stream",
     "text": [
      "C:\\Users\\Pavel\\Anaconda3\\lib\\site-packages\\ipykernel_launcher.py:2: RuntimeWarning: overflow encountered in exp\n",
      "  \n"
     ]
    },
    {
     "data": {
      "text/plain": [
       "(1.0, 0.0)"
      ]
     },
     "execution_count": 12,
     "metadata": {},
     "output_type": "execute_result"
    }
   ],
   "source": [
    "sigmoid(70), sigmoid(-710)"
   ]
  },
  {
   "cell_type": "code",
   "execution_count": 13,
   "metadata": {},
   "outputs": [
    {
     "data": {
      "text/plain": [
       "(0.9999999999999998, 5.562684646268137e-309)"
      ]
     },
     "execution_count": 13,
     "metadata": {},
     "output_type": "execute_result"
    }
   ],
   "source": [
    "sigmoid_check(70), sigmoid_check(-710)"
   ]
  },
  {
   "cell_type": "code",
   "execution_count": 14,
   "metadata": {},
   "outputs": [],
   "source": [
    "z = np.linspace(-100, 100, 1001)"
   ]
  },
  {
   "cell_type": "code",
   "execution_count": 15,
   "metadata": {},
   "outputs": [],
   "source": [
    "probabilities = sigmoid(z)"
   ]
  },
  {
   "cell_type": "code",
   "execution_count": 16,
   "metadata": {},
   "outputs": [
    {
     "data": {
      "image/png": "[encoded data removed]",
      "text/plain": [
       "<Figure size 432x288 with 1 Axes>"
      ]
     },
     "metadata": {
      "needs_background": "light"
     },
     "output_type": "display_data"
    }
   ],
   "source": [
    "plt.plot(z, probabilities)\n",
    "plt.show()"
   ]
  },
  {
   "cell_type": "code",
   "execution_count": 17,
   "metadata": {},
   "outputs": [],
   "source": [
    "probabilities_alt = sigmoid_check(z)"
   ]
  },
  {
   "cell_type": "code",
   "execution_count": 18,
   "metadata": {},
   "outputs": [
    {
     "data": {
      "image/png": "[encoded data removed]",
      "text/plain": [
       "<Figure size 432x288 with 1 Axes>"
      ]
     },
     "metadata": {
      "needs_background": "light"
     },
     "output_type": "display_data"
    }
   ],
   "source": [
    "plt.plot(z, probabilities_alt)\n",
    "plt.show()"
   ]
  },
  {
   "cell_type": "markdown",
   "metadata": {},
   "source": [
    "## Задание № 2.\n",
    "Подберите аргументы функции eval_model для логистической регрессии таким образом, чтобы log loss был минимальным."
   ]
  },
  {
   "cell_type": "code",
   "execution_count": 176,
   "metadata": {},
   "outputs": [],
   "source": [
    "def eval_model(X, y, iterations, alpha=1e-4):\n",
    "    np.random.seed(42)\n",
    "    W = np.random.randn(X.shape[0])\n",
    "    n = X.shape[1]\n",
    "    for i in range(1, iterations+1):\n",
    "        z = np.dot(W, X)\n",
    "        y_pred = sigmoid_check(z)\n",
    "        err = calc_logloss(y, y_pred)\n",
    "        W -= alpha * (1/n * np.dot((y_pred - y), X.T))\n",
    "#         if i % (iterations / 10) == 0:\n",
    "#             print(i, W, err)\n",
    "    return [W, err, alpha, iterations]"
   ]
  },
  {
   "cell_type": "code",
   "execution_count": 132,
   "metadata": {},
   "outputs": [
    {
     "data": {
      "text/plain": [
       "array([  100,   200,   400,   800,  1600,  3200,  6400, 12800, 25600,\n",
       "       51200])"
      ]
     },
     "metadata": {},
     "output_type": "display_data"
    },
    {
     "data": {
      "text/plain": [
       "array([1.00e-01, 2.00e-02, 4.00e-03, 8.00e-04, 1.60e-04, 3.20e-05,\n",
       "       6.40e-06, 1.28e-06, 2.56e-07, 5.12e-08])"
      ]
     },
     "metadata": {},
     "output_type": "display_data"
    }
   ],
   "source": [
    "# Генерация списков итераций и коэф. alpha\n",
    "iterations_list = [100]\n",
    "alpha_list = [0.1]\n",
    "for i in range(9):\n",
    "    iterations_list.append(iterations_list[i] * 2)\n",
    "    alpha_list.append(alpha_list[i] / 5)\n",
    "iterations_list = np.array(iterations_list)\n",
    "alpha_list = np.array(alpha_list)\n",
    "display(iterations_list)\n",
    "display(alpha_list)"
   ]
  },
  {
   "cell_type": "code",
   "execution_count": 145,
   "metadata": {
    "scrolled": true
   },
   "outputs": [
    {
     "name": "stdout",
     "output_type": "stream",
     "text": [
      "[[array([-2.51890703, -0.94532648,  0.40019222,  3.1328895 ]), 0.3754024229306204], 0.1, 1000] 99.62459757706938\n",
      "[[array([-4.27681634, -0.98164328, -0.27422187,  4.26220436]), 0.326665613183083], 0.1, 2000] 0.04873680974753741\n",
      "[[array([-6.58552026, -1.08572008, -1.09098018,  5.89834449]), 0.28253722160829253], 0.1, 4000] 0.04412839157479048\n",
      "[[array([-9.56650604, -1.29085277, -2.0555972 ,  8.19624232]), 0.24420551648738908], 0.1, 8000] 0.03833170512090345\n",
      "[[array([-13.72816892,  -1.63397868,  -3.32389026,  11.53922147]), 0.20610296135011982], 0.1, 16000] 0.03810255513726926\n",
      "[[array([-19.66816656,  -2.1569958 ,  -5.06917438,  16.36437001]), 0.16700098482060838], 0.1, 32000] 0.039101976529511445\n",
      "[[array([-27.54549244,  -2.86744425,  -7.32451515,  22.76251685]), 0.13247616802073162], 0.1, 64000] 0.03452481679987676\n",
      "[[array([-37.28977752,  -3.7435261 , -10.07588345,  30.63137072]), 0.10612802369593613], 0.1, 128000] 0.026348144324795486\n",
      "[[array([-49.45264023,  -4.78149391, -13.53623313,  40.30535048]), 0.08590518362925238], 0.1, 256000] 0.020222840066683748\n",
      "[[array([-66.01616271,  -6.00176467, -18.41007448,  53.07585193]), 0.06765337579345758], 0.1, 512000] 0.018251807835794803\n",
      "[[array([-90.31036232,  -7.5296465 , -25.77098698,  71.30635718]), 0.048370393123814484], 0.1, 1024000] 0.019282982669643095\n",
      "[[array([-0.49169526, -0.82107721,  0.98651644,  1.74713352]), 0.45718316170161044], 0.02, 1000] 99.54281683829839\n",
      "[[array([-1.06979683, -0.89418258,  0.89616449,  2.19787229]), 0.4294676138785146], 0.02, 2000] 0.02771554782309582\n",
      "[[array([-2.07709938, -0.93757248,  0.56812881,  2.85777636]), 0.39029834614080305], 0.02, 4000] 0.039169267737711566\n",
      "[[array([-3.64807794, -0.9649989 , -0.03689206,  3.84752093]), 0.34224329372471846], 0.02, 8000] 0.0480550524160846\n",
      "[[array([-5.78154855, -1.04243307, -0.81552721,  5.3099684 ]), 0.2959181141376072], 0.02, 16000] 0.04632517958711124\n",
      "[[array([-8.50913714, -1.2118964 , -1.72144024,  7.36543543]), 0.2562470862903387], 0.02, 32000] 0.0396710278472685\n",
      "[[array([-12.21755799,  -1.50552294,  -2.86985132,  10.31792763]), 0.21859600936310133], 0.02, 64000] 0.037651076927237376\n",
      "[[array([-17.54061988,  -1.96752809,  -4.44991353,  14.63457147]), 0.1794176500329026], 0.02, 128000] 0.039178359330198725\n",
      "[[array([-24.80628719,  -2.61952908,  -6.54555142,  20.53990196]), 0.14273866120117093], 0.02, 256000] 0.03667898883173168\n",
      "[[array([-33.93697508,  -3.44434261,  -9.13041821,  27.93229237]), 0.11376434065259303], 0.02, 512000] 0.028974320548577903\n",
      "[[array([-45.188816  ,  -4.42861948, -12.31445878,  36.93906307]), 0.0919939828999279], 0.02, 1024000] 0.02177035775266513\n",
      "[[array([ 0.09278724, -0.71712315,  0.82381643,  1.30618327]), 0.49538488745431775], 0.004, 1000] 99.50461511254568\n",
      "[[array([-0.09155731, -0.73868661,  0.92542649,  1.40504537]), 0.4814616210146691], 0.004, 2000] 0.01392326643964864\n",
      "[[array([-0.36741764, -0.79662872,  0.98454321,  1.63794247]), 0.46414505518196914], 0.004, 4000] 0.01731656583269997\n",
      "[[array([-0.84539584, -0.87251658,  0.94523274,  2.03306377]), 0.43949968626764147], 0.004, 8000] 0.02464536891432767\n",
      "[[array([-1.69550435, -0.92757694,  0.70560484,  2.6167896 ]), 0.40420701960320826], 0.004, 16000] 0.0352926666644332\n",
      "[[array([-3.07810535, -0.95396353,  0.18301465,  3.48285315]), 0.358073413971759], 0.004, 32000] 0.04613360563144925\n",
      "[[array([-5.03623514, -1.00874428, -0.55199328,  4.78156611]), 0.3100817917951847], 0.004, 64000] 0.04799162217657432\n",
      "[[array([-7.5511915 , -1.14566215, -1.41179587,  6.62602178]), 0.26848439775225175], 0.004, 128000] 0.041597394042932945\n",
      "[[array([-10.87746708,  -1.39474161,  -2.46165238,   9.24050698]), 0.23085364472528772], 0.004, 256000] 0.03763075302696403\n",
      "[[array([-15.61896629,  -1.79816327,  -3.88536075,  13.07306315]), 0.19208442788236518], 0.004, 512000] 0.03876921684292253\n",
      "[[array([-22.25780205,  -2.38948041,  -5.81621117,  18.46958913]), 0.1538579966133969], 0.004, 1024000] 0.03822643126896827\n",
      "[[array([ 0.32194406, -0.68167089,  0.6503466 ,  1.29868498]), 0.5254900144977822], 0.0008, 1000] 99.47450998550222\n",
      "[[array([ 0.24883132, -0.7161207 ,  0.7026091 ,  1.27967946]), 0.5122413802962124], 0.0008, 2000] 0.013248634201569853\n",
      "[[array([ 0.13923813, -0.71597491,  0.79023237,  1.29275556]), 0.49970232017110794], 0.0008, 4000] 0.012539060125104418\n",
      "[[array([-0.02491095, -0.72798706,  0.8948053 ,  1.36119314]), 0.4860934016220536], 0.0008, 8000] 0.013608918549054327\n",
      "[[array([-0.26365151, -0.77432509,  0.97305249,  1.5457703 ]), 0.47035801507311464], 0.0008, 16000] 0.015735386548938968\n",
      "[[array([-0.65958692, -0.84853202,  0.97364152,  1.88735759]), 0.4484278496787284], 0.0008, 32000] 0.021930165394386247\n",
      "[[array([-1.37020726, -0.91391256,  0.81209555,  2.40441541]), 0.4169004751676124], 0.0008, 64000] 0.03152737451111598\n",
      "[[array([-2.56883962, -0.94603151,  0.38078533,  3.16386285]), 0.3737197773862727], 0.0008, 128000] 0.043180697781339705\n",
      "[[array([-4.34624116, -0.98380502, -0.30001907,  4.30885074]), 0.3250192808876699], 0.0008, 256000] 0.04870049649860281\n",
      "[[array([-6.67399381, -1.09087819, -1.12079363,  5.96413512]), 0.2811516501098853], 0.0008, 512000] 0.043867630777784605\n",
      "[[array([-9.68502309, -1.300007  , -2.09264216,  8.29010042]), 0.24292692645566957], 0.0008, 1024000] 0.038224723654215725\n",
      "[[array([ 0.4412152 , -0.35155408,  0.64101348,  1.43930751]), 0.8301727583100009], 0.00016, 1000] 99.16982724169\n",
      "[[array([ 0.39765056, -0.51105763,  0.63449958,  1.37520778]), 0.6305000876643686], 0.00016, 2000] 0.19967267064563232\n",
      "[[array([ 0.3417183 , -0.65404677,  0.64140728,  1.31243201]), 0.5344926245030281], 0.00016, 4000] 0.09600746316134046\n",
      "[[array([ 0.27513619, -0.71169856,  0.68163936,  1.28214218]), 0.5158623519084634], 0.00016, 8000] 0.018630272594564734\n",
      "[[array([ 0.17992703, -0.71628603,  0.75875229,  1.28469557]), 0.5039388980893602], 0.00016, 16000] 0.011923453819103202\n",
      "[[array([ 0.03452624, -0.72108234,  0.86152398,  1.32962655]), 0.4905410881973985], 0.00016, 32000] 0.01339780989196171\n",
      "[[array([-0.17550419, -0.7552291 ,  0.95379951,  1.47019463]), 0.47591512859343926], 0.00016, 64000] 0.014625959603959238\n",
      "[[array([-0.50626571, -0.82357275,  0.98572681,  1.75944243]), 0.4563690521173955], 0.00016, 128000] 0.019546076476043783\n",
      "[[array([-1.09609097, -0.89619902,  0.88938878,  2.21637743]), 0.42831033895034976], 0.00016, 256000] 0.028058713167045723\n",
      "[[array([-2.12101537, -0.93843906,  0.55169225,  2.8851665 ]), 0.388742133985357], 0.00016, 512000] 0.03956820496499275\n",
      "[[array([-3.71199258, -0.96645885, -0.06130435,  3.88905163]), 0.3405624009757895], 0.00016, 1024000] 0.048179733009567516\n",
      "[[array([ 0.48476666, -0.18403997,  0.64670497,  1.50515119]), 1.098707368678906], 3.2000000000000005e-05, 1000] 98.9012926313211\n",
      "[[array([ 0.47322199, -0.22841352,  0.64551432,  1.48778223]), 1.0235282471072797], 3.2000000000000005e-05, 2000] 0.0751791215716262\n",
      "[[array([ 0.45142886, -0.31234145,  0.64261938,  1.45479632]), 0.8888320336666403], 3.2000000000000005e-05, 4000] 0.13469621344063942\n",
      "[[array([ 0.41354712, -0.45535879,  0.63646755,  1.39789609]), 0.6911034153715537], 3.2000000000000005e-05, 8000] 0.1977286182950866\n",
      "[[array([ 0.36053901, -0.61684655,  0.63605369,  1.32979603]), 0.550888552548629], 3.2000000000000005e-05, 16000] 0.14021486282292472\n",
      "[[array([ 0.29851495, -0.70157996,  0.66461496,  1.28798223]), 0.5196966792015187], 3.2000000000000005e-05, 32000] 0.031191873347110266\n",
      "[[array([ 0.21525907, -0.71692864,  0.73016981,  1.28055936]), 0.5080095169371568], 3.2000000000000005e-05, 64000] 0.01168716226436195\n",
      "[[array([ 0.08756765, -0.71734351,  0.82728951,  1.30797233]), 0.4949129500087695], 3.2000000000000005e-05, 128000] 0.013096566928387288\n",
      "[[array([-0.09907526, -0.74003226,  0.92831653,  1.4104706 ]), 0.4809456761189549], 3.2000000000000005e-05, 256000] 0.013967273889814613\n",
      "[[array([-0.37954124, -0.79910772,  0.98515429,  1.64866618]), 0.4634361913487398], 3.2000000000000005e-05, 512000] 0.017509484770215078\n",
      "[[array([-0.86728975, -0.87492436,  0.94103347,  2.04959144]), 0.4384829452379596], 3.2000000000000005e-05, 1024000] 0.024953246110780203\n",
      "[[array([ 0.49429365, -0.14752458,  0.64750898,  1.51941578]), 1.1622519093340944], 6.400000000000001e-06, 1000] 98.83774809066591\n",
      "[[array([ 0.49188846, -0.15673337,  0.64732077,  1.51582051]), 1.1460723073521055], 6.400000000000001e-06, 2000] 0.016179601981988867\n",
      "[[array([ 0.48712484, -0.17499196,  0.64691865,  1.50868792]), 1.1142666892939324], 6.400000000000001e-06, 4000] 0.03180561805817317\n",
      "[[array([ 0.47779026, -0.21084084,  0.64601419,  1.49466566]), 1.0529456111872628], 6.400000000000001e-06, 8000] 0.061321078106669535\n",
      "[[array([ 0.45993219, -0.27959797,  0.64384513,  1.46768919]), 0.9400416308208683], 6.400000000000001e-06, 16000] 0.11290398036639449\n",
      "[[array([ 0.4277406 , -0.40277398,  0.63876006,  1.41896831]), 0.7578747549539113], 6.400000000000001e-06, 32000] 0.182166875866957\n",
      "[[array([ 0.37862574, -0.57036103,  0.63393117,  1.35028381]), 0.5796713776612669], 6.400000000000001e-06, 64000] 0.17820337729264446\n",
      "[[array([ 0.31980882, -0.68391881,  0.65150238,  1.29749745]), 0.5247942113437876], 6.400000000000001e-06, 128000] 0.0548771663174793\n",
      "[[array([ 0.24584301, -0.71631404,  0.70503464,  1.27960572]), 0.5118432075278658], 6.400000000000001e-06, 256000] 0.012951003815921736\n",
      "[[array([ 0.13459521, -0.71600539,  0.79368058,  1.29388985]), 0.4992430553484743], 6.400000000000001e-06, 512000] 0.012600152179391533\n",
      "[[array([-0.03162027, -0.72892898,  0.89818403,  1.36522178]), 0.48561083152807427], 6.400000000000001e-06, 1024000] 0.013632223820400025\n",
      "[[array([ 0.49622884, -0.14012042,  0.64765332,  1.52230556]), 1.17531276116539], 1.2800000000000002e-06, 1000] 98.82468723883461\n",
      "[[array([ 0.49574413, -0.14197451,  0.64761775,  1.521582  ]), 1.1720335368080825], 1.2800000000000002e-06, 2000] 0.003279224357307431\n",
      "[[array([ 0.49661704, -0.13863569,  0.64768152,  1.52288494]), 1.1779386512165864], 2.5600000000000007e-07, 1000] 98.82206134878341\n",
      "[[array([ 0.49651996, -0.13900699,  0.64767449,  1.52274005]), 1.1772810948219363], 2.5600000000000007e-07, 2000] 0.0006575563946500385\n",
      "[[array([ 0.49669473, -0.13833858,  0.64768714,  1.52300087]), 1.1784643750730672], 5.1200000000000015e-08, 1000] 98.82153562492694\n",
      "[[array([ 0.49667531, -0.13841286,  0.64768573,  1.52297189]), 1.1783327955001934], 5.1200000000000015e-08, 2000] 0.00013157957287379674\n"
     ]
    }
   ],
   "source": [
    "w_err = []\n",
    "min_err_dist = 1e-2\n",
    "for alpha_ in alpha_list:\n",
    "    err_dist = np.inf\n",
    "    err = 100\n",
    "    iterations_ = 1000\n",
    "    while err_dist > min_err_dist and iterations_ <= 1024000:\n",
    "        w_err.append([eval_model(X_st, y, iterations_, alpha_)])\n",
    "        new_err = w_err[-1][0][1].copy()\n",
    "        err_dist = err - new_err\n",
    "        print(w_err[-1], err_dist)\n",
    "        err = new_err\n",
    "        iterations_ *= 2"
   ]
  },
  {
   "cell_type": "markdown",
   "metadata": {},
   "source": [
    "При alpha=0.1, iterations=1 024 000, показатель ошибки log-loss около 0.048, но в то же время веса при признаках большие"
   ]
  },
  {
   "cell_type": "markdown",
   "metadata": {},
   "source": [
    "[-90.31036232,  -7.5296465 , -25.77098698,  71.30635718], что может свидетельствовать о переобучении модели."
   ]
  },
  {
   "cell_type": "markdown",
   "metadata": {},
   "source": [
    "## Задание № 3.\n",
    "Создайте функцию calc_pred_proba, возвращающую предсказанную вероятность класса 1 (на вход подаются W, который уже посчитан функцией eval_model и X, на выходе - массив y_pred_proba)."
   ]
  },
  {
   "cell_type": "code",
   "execution_count": 185,
   "metadata": {},
   "outputs": [],
   "source": [
    "def calc_pred_proba(w, X):\n",
    "    display(w)\n",
    "    display(X)\n",
    "    z = w.dot(X)\n",
    "    display(z)\n",
    "    y_pred_proba = sigmoid_check(z)\n",
    "    return y_pred_proba"
   ]
  },
  {
   "cell_type": "code",
   "execution_count": 184,
   "metadata": {
    "scrolled": true
   },
   "outputs": [
    {
     "data": {
      "text/plain": [
       "array([-22.25780205,  -2.38948041,  -5.81621117,  18.46958913])"
      ]
     },
     "metadata": {},
     "output_type": "display_data"
    },
    {
     "data": {
      "text/plain": [
       "array([[ 1.        ,  1.        ,  1.        ,  1.        ,  1.        ,\n",
       "         1.        ,  1.        ,  1.        ,  1.        ,  1.        ],\n",
       "       [ 1.        ,  1.        ,  2.        ,  5.        ,  3.        ,\n",
       "         0.        ,  5.        , 10.        ,  1.        ,  2.        ],\n",
       "       [-0.97958969, -0.56713087, -0.46401617, -0.77336028,  0.97958969,\n",
       "        -0.36090146,  1.08270439,  2.11385144, -1.08270439,  0.05155735],\n",
       "       [ 1.        ,  1.        ,  2.        ,  1.        ,  2.        ,\n",
       "         1.        ,  3.        ,  3.        ,  1.        ,  2.        ]])"
      ]
     },
     "metadata": {},
     "output_type": "display_data"
    },
    {
     "data": {
      "text/plain": [
       "array([ -0.48019284,  -2.87914041,  12.60123141, -11.23758826,\n",
       "         1.81543448,  -1.68913379,  14.9063259 ,  -3.03844509,\n",
       "         0.11954406,   9.60254694])"
      ]
     },
     "metadata": {},
     "output_type": "display_data"
    },
    {
     "data": {
      "text/plain": [
       "array([3.82206591e-01, 5.31944127e-02, 9.99996632e-01, 1.31695734e-05,\n",
       "       8.60017399e-01, 1.55889789e-01, 9.99999664e-01, 4.57189615e-02,\n",
       "       5.29850474e-01, 9.99932448e-01])"
      ]
     },
     "execution_count": 184,
     "metadata": {},
     "output_type": "execute_result"
    }
   ],
   "source": [
    "# calc_pred_proba(eval_model(X_st, y, iterations=1024000, alpha=0.004)[0], X_st)\n",
    "calc_pred_proba(np.array([-22.25780205,  -2.38948041,  -5.81621117,  18.46958913]), X_st)"
   ]
  },
  {
   "cell_type": "markdown",
   "metadata": {},
   "source": [
    "## Задание № 4.\n",
    "Создайте функцию calc_pred, возвращающую предсказанный класс (на вход подаются W, который уже посчитан функцией eval_model и X, на выходе - массив y_pred)."
   ]
  },
  {
   "cell_type": "code",
   "execution_count": 193,
   "metadata": {},
   "outputs": [],
   "source": [
    "def calc_pred(w, X):\n",
    "#     display(w)\n",
    "#     display(X)\n",
    "    z = w.dot(X)\n",
    "#     display(z)\n",
    "    y_pred_proba = sigmoid_check(z)\n",
    "    return [1 if i >=0.5 else 0 for i in y_pred_proba]"
   ]
  },
  {
   "cell_type": "code",
   "execution_count": 222,
   "metadata": {},
   "outputs": [
    {
     "data": {
      "text/plain": [
       "[0, 0, 1, 0, 1, 0, 1, 0, 1, 1]"
      ]
     },
     "execution_count": 222,
     "metadata": {},
     "output_type": "execute_result"
    }
   ],
   "source": [
    "# calc_pred_proba(eval_model(X_st, y, iterations=1024000, alpha=0.004)[0], X_st)\n",
    "y_pred = calc_pred(np.array([-22.25780205,  -2.38948041,  -5.81621117,  18.46958913]), X_st)\n",
    "y_pred"
   ]
  },
  {
   "cell_type": "code",
   "execution_count": 197,
   "metadata": {},
   "outputs": [
    {
     "data": {
      "text/plain": [
       "True"
      ]
     },
     "execution_count": 197,
     "metadata": {},
     "output_type": "execute_result"
    }
   ],
   "source": [
    "np.all(y_pred == y)"
   ]
  },
  {
   "cell_type": "markdown",
   "metadata": {},
   "source": [
    "## Задание № 5*.\n",
    "Посчитайте Accuracy, матрицу ошибок, точность и полноту, а также F1 score."
   ]
  },
  {
   "cell_type": "code",
   "execution_count": 200,
   "metadata": {},
   "outputs": [],
   "source": [
    "# Accuracy\n",
    "def accuracy_rate(y, y_pred):\n",
    "    return sum([1 if y[i] == y_pred[i] else 0 for i in range(len(y))]) / len(y)"
   ]
  },
  {
   "cell_type": "code",
   "execution_count": 201,
   "metadata": {},
   "outputs": [
    {
     "data": {
      "text/plain": [
       "1.0"
      ]
     },
     "execution_count": 201,
     "metadata": {},
     "output_type": "execute_result"
    }
   ],
   "source": [
    "accuracy_rate(y, calc_pred(np.array([-22.25780205,  -2.38948041,  -5.81621117,  18.46958913]), X_st))"
   ]
  },
  {
   "cell_type": "code",
   "execution_count": 212,
   "metadata": {},
   "outputs": [],
   "source": [
    "def tp_cases(y, y_pred):\n",
    "    return np.sum(np.array([1 if y[i] == y_pred[i] == 1 else 0 for i in range(len(y))]))"
   ]
  },
  {
   "cell_type": "code",
   "execution_count": 213,
   "metadata": {},
   "outputs": [
    {
     "data": {
      "text/plain": [
       "5"
      ]
     },
     "execution_count": 213,
     "metadata": {},
     "output_type": "execute_result"
    }
   ],
   "source": [
    "tp_cases(y, calc_pred(np.array([-22.25780205,  -2.38948041,  -5.81621117,  18.46958913]), X_st))"
   ]
  },
  {
   "cell_type": "code",
   "execution_count": 214,
   "metadata": {},
   "outputs": [],
   "source": [
    "def tn_cases(y, y_pred):\n",
    "    return np.sum(np.array([1 if y[i] == y_pred[i] == 0 else 0 for i in range(len(y))]))"
   ]
  },
  {
   "cell_type": "code",
   "execution_count": 219,
   "metadata": {},
   "outputs": [
    {
     "data": {
      "text/plain": [
       "5"
      ]
     },
     "execution_count": 219,
     "metadata": {},
     "output_type": "execute_result"
    }
   ],
   "source": [
    "tn_cases(y, calc_pred(np.array([-22.25780205,  -2.38948041,  -5.81621117,  18.46958913]), X_st))"
   ]
  },
  {
   "cell_type": "code",
   "execution_count": 215,
   "metadata": {},
   "outputs": [],
   "source": [
    "def fp_cases(y, y_pred):\n",
    "    return np.sum(np.array([1 if y[i] != y_pred[i] and y[i] == 0 else 0 for i in range(len(y))]))"
   ]
  },
  {
   "cell_type": "code",
   "execution_count": 218,
   "metadata": {},
   "outputs": [
    {
     "data": {
      "text/plain": [
       "0"
      ]
     },
     "execution_count": 218,
     "metadata": {},
     "output_type": "execute_result"
    }
   ],
   "source": [
    "fp_cases(y, calc_pred(np.array([-22.25780205,  -2.38948041,  -5.81621117,  18.46958913]), X_st))"
   ]
  },
  {
   "cell_type": "code",
   "execution_count": 216,
   "metadata": {},
   "outputs": [],
   "source": [
    "def fn_cases(y, y_pred):\n",
    "    return np.sum(np.array([1 if y[i] != y_pred[i] and y[i] == 1 else 0 for i in range(len(y))]))"
   ]
  },
  {
   "cell_type": "code",
   "execution_count": 217,
   "metadata": {},
   "outputs": [
    {
     "data": {
      "text/plain": [
       "0"
      ]
     },
     "execution_count": 217,
     "metadata": {},
     "output_type": "execute_result"
    }
   ],
   "source": [
    "fn_cases(y, calc_pred(np.array([-22.25780205,  -2.38948041,  -5.81621117,  18.46958913]), X_st))"
   ]
  },
  {
   "cell_type": "code",
   "execution_count": 220,
   "metadata": {},
   "outputs": [],
   "source": [
    "# Матрица ошибок\n",
    "def confusion_matrix(y, y_pred):\n",
    "    matrix = np.array([[tp_cases(y, y_pred), fp_cases(y, y_pred)],\n",
    "                       [fn_cases(y, y_pred), tn_cases(y, y_pred)]])\n",
    "    return matrix"
   ]
  },
  {
   "cell_type": "code",
   "execution_count": 221,
   "metadata": {},
   "outputs": [
    {
     "data": {
      "text/plain": [
       "array([[5, 0],\n",
       "       [0, 5]])"
      ]
     },
     "execution_count": 221,
     "metadata": {},
     "output_type": "execute_result"
    }
   ],
   "source": [
    "confusion_matrix(y, calc_pred(np.array([-22.25780205,  -2.38948041,  -5.81621117,  18.46958913]), X_st))"
   ]
  },
  {
   "cell_type": "code",
   "execution_count": null,
   "metadata": {},
   "outputs": [],
   "source": [
    "# Точность\n",
    "def precision_rate(y, y_pred):\n",
    "    return tp_cases(y, y_pred) / (tp_cases(y, y_pred) + fp_cases(y, y_pred))"
   ]
  },
  {
   "cell_type": "code",
   "execution_count": null,
   "metadata": {},
   "outputs": [],
   "source": [
    "# Полнота\n",
    "def recall_rate(y, y_pred):\n",
    "    return tp_cases(y, y_pred) / (tp_cases(y, y_pred) + fn_cases(y, y_pred))"
   ]
  },
  {
   "cell_type": "code",
   "execution_count": null,
   "metadata": {},
   "outputs": [],
   "source": [
    "# F1 score\n",
    "def f1_score(y, y_pred):\n",
    "    return 2 * tp_cases(y, y_pred) / (2 * tp_cases(y, y_pred) + fp_cases(y, y_pred) + fn_cases(y, y_pred))"
   ]
  },
  {
   "cell_type": "markdown",
   "metadata": {},
   "source": [
    "## Задание № 6.\n",
    "Могла ли модель переобучиться? Почему?"
   ]
  },
  {
   "cell_type": "markdown",
   "metadata": {},
   "source": [
    "При значениях alpha=0.1 и iterations=1 024 000 (log-loss около 0.048) веса при признаках получились"
   ]
  },
  {
   "cell_type": "markdown",
   "metadata": {},
   "source": [
    "[-90.31036232, -7.5296465 , -25.77098698, 71.30635718], что может свидетельствовать о переобучении модели"
   ]
  },
  {
   "cell_type": "markdown",
   "metadata": {},
   "source": [
    "В случае наличия достаточных по объёму данных, мы могли бы разбить их на тренировочную и тестовую часть и проверить наличие переобучения на практике. Т.е. чтобы более обосновано ответить на вопрос, нужно проверить предсказание модели на новых данных."
   ]
  },
  {
   "cell_type": "code",
   "execution_count": null,
   "metadata": {},
   "outputs": [],
   "source": []
  }
 ],
 "metadata": {
  "kernelspec": {
   "display_name": "Python 3",
   "language": "python",
   "name": "python3"
  },
  "language_info": {
   "codemirror_mode": {
    "name": "ipython",
    "version": 3
   },
   "file_extension": ".py",
   "mimetype": "text/x-python",
   "name": "python",
   "nbconvert_exporter": "python",
   "pygments_lexer": "ipython3",
   "version": "3.7.3"
  }
 },
 "nbformat": 4,
 "nbformat_minor": 2
}
