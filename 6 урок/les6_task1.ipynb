{
 "cells": [
  {
   "cell_type": "markdown",
   "metadata": {},
   "source": [
    "## Урок № 6. Градиентный бустинг (AdaBoost)"
   ]
  },
  {
   "cell_type": "markdown",
   "metadata": {},
   "source": [
    "### Задание № 1.\n",
    "Для реализованной модели градиентного бустинга построить графики зависимости ошибки от количества деревьев в ансамбле и от максимальной глубины деревьев. Сделать выводы о зависимости ошибки от этих параметров."
   ]
  },
  {
   "cell_type": "code",
   "execution_count": 1,
   "metadata": {},
   "outputs": [],
   "source": [
    "from sklearn.tree import DecisionTreeRegressor\n",
    "\n",
    "from sklearn import model_selection\n",
    "import numpy as np"
   ]
  },
  {
   "cell_type": "code",
   "execution_count": 2,
   "metadata": {},
   "outputs": [],
   "source": [
    "from sklearn.datasets import load_diabetes"
   ]
  },
  {
   "cell_type": "code",
   "execution_count": 4,
   "metadata": {},
   "outputs": [],
   "source": [
    "X, y = load_diabetes(return_X_y=True)"
   ]
  },
  {
   "cell_type": "code",
   "execution_count": 7,
   "metadata": {},
   "outputs": [
    {
     "data": {
      "text/plain": [
       "((442, 10), (442,))"
      ]
     },
     "execution_count": 7,
     "metadata": {},
     "output_type": "execute_result"
    }
   ],
   "source": [
    "X.shape, y.shape"
   ]
  },
  {
   "cell_type": "code",
   "execution_count": 8,
   "metadata": {},
   "outputs": [],
   "source": [
    "X_train, X_test, y_train, y_test = model_selection.train_test_split(X, y, test_size=0.25)"
   ]
  },
  {
   "cell_type": "code",
   "execution_count": 19,
   "metadata": {},
   "outputs": [],
   "source": [
    "def gb_predict(X, trees_list, coef_list, eta):\n",
    "    # Реализуемый алгоритм градиентного бустинга будет инициализироваться нулевыми значениями,\n",
    "    # поэтому все деревья из списка trees_list уже являются дополнительными и при предсказании прибавляются с шагом eta\n",
    "    return np.array([sum([eta* coef * alg.predict([x])[0] for alg, coef in zip(trees_list, coef_list)]) for x in X])"
   ]
  },
  {
   "cell_type": "code",
   "execution_count": 20,
   "metadata": {},
   "outputs": [],
   "source": [
    "def mean_squared_error(y_real, prediction):\n",
    "    return (sum((y_real - prediction)**2)) / len(y_real)"
   ]
  },
  {
   "cell_type": "code",
   "execution_count": 21,
   "metadata": {},
   "outputs": [],
   "source": [
    "def bias(y, z):\n",
    "    return (y - z)"
   ]
  },
  {
   "cell_type": "code",
   "execution_count": 23,
   "metadata": {},
   "outputs": [],
   "source": [
    "def gb_fit(n_trees, max_depth, X_train, X_test, y_train, y_test, coefs, eta):\n",
    "    \n",
    "    # Деревья будем записывать в список\n",
    "    trees = []\n",
    "    \n",
    "    # Будем записывать ошибки на обучающей и тестовой выборке на каждой итерации в список\n",
    "    train_errors = []\n",
    "    test_errors = []\n",
    "    \n",
    "    for i in range(n_trees):\n",
    "        # базовый алгоритм\n",
    "        tree = DecisionTreeRegressor(max_depth=max_depth, random_state=42)\n",
    "\n",
    "        # инициализируем бустинг начальным алгоритмом, возвращающим ноль, \n",
    "        # поэтому первый алгоритм просто обучаем на выборке и добавляем в список\n",
    "        if len(trees) == 0:\n",
    "            # обучаем первое дерево на обучающей выборке\n",
    "            tree.fit(X_train, y_train)\n",
    "            \n",
    "            train_errors.append(mean_squared_error(y_train, gb_predict(X_train, trees, coefs, eta)))\n",
    "            test_errors.append(mean_squared_error(y_test, gb_predict(X_test, trees, coefs, eta)))\n",
    "        else:\n",
    "            # Получим ответы на текущей композиции\n",
    "            target = gb_predict(X_train, trees, coefs, eta)\n",
    "            # алгоритмы начиная со второго обучаем на сдвиг\n",
    "            tree.fit(X_train, bias(y_train, target))\n",
    "            train_errors.append(mean_squared_error(y_train, gb_predict(X_train, trees, coefs, eta)))\n",
    "            test_errors.append(mean_squared_error(y_test, gb_predict(X_test, trees, coefs, eta)))\n",
    "\n",
    "        trees.append(tree)\n",
    "        \n",
    "    return trees, train_errors, test_errors"
   ]
  },
  {
   "cell_type": "code",
   "execution_count": 69,
   "metadata": {},
   "outputs": [],
   "source": [
    "# Число деревьев в ансамбле\n",
    "n_trees = 3\n",
    "\n",
    "# для простоты примем коэффициенты равными 1\n",
    "coefs = [1] * n_trees\n",
    "\n",
    "# Максимальная глубина деревьев\n",
    "max_depth = 3\n",
    "\n",
    "# Шаг\n",
    "eta = 1\n",
    "\n",
    "trees, train_errors, test_errors = gb_fit(n_trees, max_depth, X_train, X_test, y_train, y_test, coefs, eta)"
   ]
  },
  {
   "cell_type": "code",
   "execution_count": 70,
   "metadata": {},
   "outputs": [],
   "source": [
    "def evaluate_alg(X_train, X_test, y_train, y_test, trees, coefs, eta):\n",
    "    train_prediction = gb_predict(X_train, trees, coefs, eta)\n",
    "\n",
    "    print(f'Ошибка алгоритма из {n_trees} деревьев глубиной {max_depth} \\\n",
    "    с шагом {eta} на тренировочной выборке: {mean_squared_error(y_train, train_prediction)}')\n",
    "\n",
    "    test_prediction = gb_predict(X_test, trees, coefs, eta)\n",
    "\n",
    "    print(f'Ошибка алгоритма из {n_trees} деревьев глубиной {max_depth} \\\n",
    "    с шагом {eta} на тестовой выборке: {mean_squared_error(y_test, test_prediction)}')"
   ]
  },
  {
   "cell_type": "code",
   "execution_count": 71,
   "metadata": {},
   "outputs": [
    {
     "name": "stdout",
     "output_type": "stream",
     "text": [
      "Ошибка алгоритма из 3 деревьев глубиной 3     с шагом 1 на тренировочной выборке: 2166.2635061927717\n",
      "Ошибка алгоритма из 3 деревьев глубиной 3     с шагом 1 на тестовой выборке: 4401.030983536639\n"
     ]
    }
   ],
   "source": [
    "evaluate_alg(X_train, X_test, y_train, y_test, trees, coefs, eta)"
   ]
  },
  {
   "cell_type": "code",
   "execution_count": 72,
   "metadata": {},
   "outputs": [],
   "source": [
    "import matplotlib.pyplot as plt\n",
    "import matplotlib\n",
    "%matplotlib inline"
   ]
  },
  {
   "cell_type": "code",
   "execution_count": 73,
   "metadata": {},
   "outputs": [],
   "source": [
    "def get_error_plot(n_trees, train_err, test_err):\n",
    "    plt.xlabel('Iteration number')\n",
    "    plt.ylabel('MSE')\n",
    "    plt.xlim(0, n_trees)\n",
    "    plt.plot(list(range(n_trees)), train_err, label='train error')\n",
    "    plt.plot(list(range(n_trees)), test_err, label='test error')\n",
    "    plt.legend(loc='upper right')\n",
    "    plt.show()"
   ]
  },
  {
   "cell_type": "code",
   "execution_count": 74,
   "metadata": {},
   "outputs": [
    {
     "data": {
      "image/png": "[encoded data removed]",
      "text/plain": [
       "<Figure size 432x288 with 1 Axes>"
      ]
     },
     "metadata": {
      "needs_background": "light"
     },
     "output_type": "display_data"
    }
   ],
   "source": [
    "get_error_plot(n_trees, train_errors, test_errors)"
   ]
  },
  {
   "cell_type": "markdown",
   "metadata": {},
   "source": [
    "*Расчёт для eta=1*"
   ]
  },
  {
   "cell_type": "code",
   "execution_count": 121,
   "metadata": {},
   "outputs": [
    {
     "name": "stdout",
     "output_type": "stream",
     "text": [
      "Расчёт для  3 деревьев выполнен. Ошибка на трейне = 2430.921, ошибка на тесте = 4017.452\n",
      "Расчёт для  6 деревьев выполнен. Ошибка на трейне = 1701.694, ошибка на тесте = 4625.099\n",
      "Расчёт для  9 деревьев выполнен. Ошибка на трейне = 1241.385, ошибка на тесте = 4958.327\n",
      "Расчёт для 12 деревьев выполнен. Ошибка на трейне =  950.176, ошибка на тесте = 5248.296\n",
      "Расчёт для 15 деревьев выполнен. Ошибка на трейне =  749.949, ошибка на тесте = 5339.687\n",
      "Расчёт для 18 деревьев выполнен. Ошибка на трейне =  611.317, ошибка на тесте = 5383.181\n",
      "Расчёт для 21 деревьев выполнен. Ошибка на трейне =  533.088, ошибка на тесте = 5409.274\n",
      "Расчёт для 24 деревьев выполнен. Ошибка на трейне =  407.213, ошибка на тесте = 5536.701\n",
      "Расчёт для 27 деревьев выполнен. Ошибка на трейне =  334.138, ошибка на тесте = 5391.758\n",
      "Расчёт для 30 деревьев выполнен. Ошибка на трейне =  264.265, ошибка на тесте = 5681.544\n",
      "Расчёт для 33 деревьев выполнен. Ошибка на трейне =  198.933, ошибка на тесте = 5867.049\n",
      "Расчёт для 36 деревьев выполнен. Ошибка на трейне =  157.081, ошибка на тесте = 5902.406\n",
      "Расчёт для 39 деревьев выполнен. Ошибка на трейне =  123.428, ошибка на тесте = 5880.341\n",
      "Расчёт для 42 деревьев выполнен. Ошибка на трейне =  103.200, ошибка на тесте = 5779.654\n",
      "Расчёт для 45 деревьев выполнен. Ошибка на трейне =   76.902, ошибка на тесте = 5666.389\n",
      "Расчёт для 48 деревьев выполнен. Ошибка на трейне =   57.432, ошибка на тесте = 5654.572\n",
      "Расчёт для 51 деревьев выполнен. Ошибка на трейне =   49.489, ошибка на тесте = 5653.889\n",
      "Расчёт для 54 деревьев выполнен. Ошибка на трейне =   37.163, ошибка на тесте = 5632.080\n",
      "Расчёт для 57 деревьев выполнен. Ошибка на трейне =   28.722, ошибка на тесте = 5596.258\n",
      "Расчёт для 60 деревьев выполнен. Ошибка на трейне =   22.886, ошибка на тесте = 5570.864\n",
      "Расчёт для 63 деревьев выполнен. Ошибка на трейне =   19.552, ошибка на тесте = 5618.674\n",
      "Расчёт для 66 деревьев выполнен. Ошибка на трейне =   15.426, ошибка на тесте = 5610.471\n",
      "Расчёт для 69 деревьев выполнен. Ошибка на трейне =   11.404, ошибка на тесте = 5647.573\n",
      "Расчёт для 72 деревьев выполнен. Ошибка на трейне =    7.805, ошибка на тесте = 5663.272\n",
      "Расчёт для 75 деревьев выполнен. Ошибка на трейне =    6.502, ошибка на тесте = 5652.027\n",
      "Расчёт для 78 деревьев выполнен. Ошибка на трейне =    5.136, ошибка на тесте = 5648.083\n",
      "Расчёт для 81 деревьев выполнен. Ошибка на трейне =    3.785, ошибка на тесте = 5666.008\n",
      "Расчёт для 84 деревьев выполнен. Ошибка на трейне =    3.180, ошибка на тесте = 5662.562\n",
      "Расчёт для 87 деревьев выполнен. Ошибка на трейне =    2.502, ошибка на тесте = 5661.401\n",
      "Расчёт для 90 деревьев выполнен. Ошибка на трейне =    2.047, ошибка на тесте = 5657.649\n",
      "Расчёт для 93 деревьев выполнен. Ошибка на трейне =    1.633, ошибка на тесте = 5655.185\n",
      "Расчёт для 96 деревьев выполнен. Ошибка на трейне =    1.281, ошибка на тесте = 5675.705\n",
      "Расчёт для 99 деревьев выполнен. Ошибка на трейне =    1.045, ошибка на тесте = 5685.105\n"
     ]
    }
   ],
   "source": [
    "num_trees = 99\n",
    "\n",
    "max_depth = 3\n",
    "\n",
    "eta = 1\n",
    "\n",
    "train_errors = []\n",
    "test_errors = []\n",
    "for n_trees in range(3, num_trees+1, 3):\n",
    "    coefs = [1] * n_trees\n",
    "    trees, temp_train_errors, temp_test_errors = gb_fit(n_trees, max_depth, X_train, X_test, y_train, y_test, coefs, eta)\n",
    "    print(f'Расчёт для {n_trees:>2} деревьев выполнен. Ошибка на трейне = {temp_train_errors[-1]:>8.3f}, \\\n",
    "ошибка на тесте = {temp_test_errors[-1]:>8.3f}')\n",
    "    train_errors.append(temp_train_errors[-1])\n",
    "    test_errors.append(temp_test_errors[-1])"
   ]
  },
  {
   "cell_type": "code",
   "execution_count": 119,
   "metadata": {},
   "outputs": [],
   "source": [
    "def get_error_for_n_trees_plot(n_trees, train_err, test_err):\n",
    "    plt.xlabel('Number of trees')\n",
    "    plt.ylabel('MSE')\n",
    "    plt.xlim(0, n_trees+5)\n",
    "    plt.plot(list(range(3, n_trees+1, 3), train_err, label='train error')\n",
    "    plt.plot(list(range(3, n_trees+1, 3), test_err, label='test error')\n",
    "    plt.legend(loc='upper right')\n",
    "    plt.show()"
   ]
  },
  {
   "cell_type": "code",
   "execution_count": 122,
   "metadata": {},
   "outputs": [
    {
     "data": {
      "image/png": "[encoded data removed]",
      "text/plain": [
       "<Figure size 432x288 with 1 Axes>"
      ]
     },
     "metadata": {
      "needs_background": "light"
     },
     "output_type": "display_data"
    }
   ],
   "source": [
    "get_error_for_n_trees_plot(num_trees, train_errors, test_errors)"
   ]
  },
  {
   "cell_type": "markdown",
   "metadata": {},
   "source": [
    "*Расчёт для eta=0.1*"
   ]
  },
  {
   "cell_type": "code",
   "execution_count": 79,
   "metadata": {},
   "outputs": [
    {
     "name": "stdout",
     "output_type": "stream",
     "text": [
      "Расчёт для  3 деревьев выполнен. Ошибка на трейне = 20269.842, ошибка на тесте = 19424.732\n",
      "Расчёт для  6 деревьев выполнен. Ошибка на трейне = 12006.519, ошибка на тесте = 11855.891\n",
      "Расчёт для  9 деревьев выполнен. Ошибка на трейне = 7517.431, ошибка на тесте = 7968.077\n",
      "Расчёт для 12 деревьев выполнен. Ошибка на трейне = 5060.252, ошибка на тесте = 5815.524\n",
      "Расчёт для 15 деревьев выполнен. Ошибка на трейне = 3692.062, ошибка на тесте = 4689.654\n",
      "Расчёт для 18 деревьев выполнен. Ошибка на трейне = 2909.216, ошибка на тесте = 4029.255\n",
      "Расчёт для 21 деревьев выполнен. Ошибка на трейне = 2433.764, ошибка на тесте = 3769.910\n",
      "Расчёт для 24 деревьев выполнен. Ошибка на трейне = 2137.991, ошибка на тесте = 3599.874\n",
      "Расчёт для 27 деревьев выполнен. Ошибка на трейне = 1949.534, ошибка на тесте = 3539.436\n",
      "Расчёт для 30 деревьев выполнен. Ошибка на трейне = 1789.168, ошибка на тесте = 3513.172\n",
      "Расчёт для 33 деревьев выполнен. Ошибка на трейне = 1686.062, ошибка на тесте = 3519.357\n",
      "Расчёт для 36 деревьев выполнен. Ошибка на трейне = 1613.418, ошибка на тесте = 3515.332\n",
      "Расчёт для 39 деревьев выполнен. Ошибка на трейне = 1559.470, ошибка на тесте = 3530.588\n",
      "Расчёт для 42 деревьев выполнен. Ошибка на трейне = 1479.485, ошибка на тесте = 3523.998\n",
      "Расчёт для 45 деревьев выполнен. Ошибка на трейне = 1424.985, ошибка на тесте = 3522.627\n",
      "Расчёт для 48 деревьев выполнен. Ошибка на трейне = 1362.699, ошибка на тесте = 3540.409\n",
      "Расчёт для 51 деревьев выполнен. Ошибка на трейне = 1301.650, ошибка на тесте = 3528.661\n",
      "Расчёт для 54 деревьев выполнен. Ошибка на трейне = 1277.801, ошибка на тесте = 3546.329\n",
      "Расчёт для 57 деревьев выполнен. Ошибка на трейне = 1242.850, ошибка на тесте = 3563.269\n",
      "Расчёт для 60 деревьев выполнен. Ошибка на трейне = 1212.324, ошибка на тесте = 3545.982\n",
      "Расчёт для 63 деревьев выполнен. Ошибка на трейне = 1173.712, ошибка на тесте = 3555.174\n",
      "Расчёт для 66 деревьев выполнен. Ошибка на трейне = 1145.788, ошибка на тесте = 3552.472\n",
      "Расчёт для 69 деревьев выполнен. Ошибка на трейне = 1117.666, ошибка на тесте = 3570.570\n",
      "Расчёт для 72 деревьев выполнен. Ошибка на трейне = 1092.531, ошибка на тесте = 3575.574\n",
      "Расчёт для 75 деревьев выполнен. Ошибка на трейне = 1051.435, ошибка на тесте = 3579.782\n",
      "Расчёт для 78 деревьев выполнен. Ошибка на трейне = 1026.518, ошибка на тесте = 3573.125\n",
      "Расчёт для 81 деревьев выполнен. Ошибка на трейне = 1002.225, ошибка на тесте = 3576.080\n",
      "Расчёт для 84 деревьев выполнен. Ошибка на трейне =  985.495, ошибка на тесте = 3571.780\n",
      "Расчёт для 87 деревьев выполнен. Ошибка на трейне =  957.596, ошибка на тесте = 3580.333\n",
      "Расчёт для 90 деревьев выполнен. Ошибка на трейне =  931.175, ошибка на тесте = 3595.758\n",
      "Расчёт для 93 деревьев выполнен. Ошибка на трейне =  904.378, ошибка на тесте = 3581.943\n",
      "Расчёт для 96 деревьев выполнен. Ошибка на трейне =  874.496, ошибка на тесте = 3608.890\n",
      "Расчёт для 99 деревьев выполнен. Ошибка на трейне =  853.692, ошибка на тесте = 3603.632\n"
     ]
    }
   ],
   "source": [
    "num_trees = 99\n",
    "\n",
    "max_depth = 3\n",
    "\n",
    "eta = 0.1\n",
    "\n",
    "train_errors = []\n",
    "test_errors = []\n",
    "for n_trees in range(3, num_trees+1, 3):\n",
    "    coefs = [1] * n_trees\n",
    "    trees, temp_train_errors, temp_test_errors = gb_fit(n_trees, max_depth, X_train, X_test, y_train, y_test, coefs, eta)\n",
    "    print(f'Расчёт для {n_trees:>2} деревьев выполнен. Ошибка на трейне = {temp_train_errors[-1]:>8.3f}, \\\n",
    "ошибка на тесте = {temp_test_errors[-1]:>8.3f}')\n",
    "    train_errors.append(temp_train_errors[-1])\n",
    "    test_errors.append(temp_test_errors[-1])"
   ]
  },
  {
   "cell_type": "code",
   "execution_count": 118,
   "metadata": {},
   "outputs": [
    {
     "data": {
      "image/png": "[encoded data removed]",
      "text/plain": [
       "<Figure size 432x288 with 1 Axes>"
      ]
     },
     "metadata": {
      "needs_background": "light"
     },
     "output_type": "display_data"
    }
   ],
   "source": [
    "get_error_for_n_trees_plot(num_trees, train_errors, test_errors)"
   ]
  },
  {
   "cell_type": "markdown",
   "metadata": {},
   "source": [
    "*Расчёт для eta=1*"
   ]
  },
  {
   "cell_type": "code",
   "execution_count": 143,
   "metadata": {},
   "outputs": [
    {
     "name": "stdout",
     "output_type": "stream",
     "text": [
      "Расчёт для глубины деревьев  3 выполнен. Ошибка на трейне =   50.997, ошибка на тесте = 5656.073\n",
      "Расчёт для глубины деревьев  4 выполнен. Ошибка на трейне =    0.806, ошибка на тесте = 6792.681\n",
      "Расчёт для глубины деревьев  5 выполнен. Ошибка на трейне =    0.003, ошибка на тесте = 5870.023\n",
      "Расчёт для глубины деревьев  6 выполнен. Ошибка на трейне =    0.000, ошибка на тесте = 6465.551\n",
      "Расчёт для глубины деревьев  7 выполнен. Ошибка на трейне =    0.000, ошибка на тесте = 6401.245\n",
      "Расчёт для глубины деревьев  8 выполнен. Ошибка на трейне =    0.000, ошибка на тесте = 6167.835\n",
      "Расчёт для глубины деревьев  9 выполнен. Ошибка на трейне =    0.000, ошибка на тесте = 5660.555\n",
      "Расчёт для глубины деревьев 10 выполнен. Ошибка на трейне =    0.000, ошибка на тесте = 5818.407\n"
     ]
    }
   ],
   "source": [
    "n_trees = 50\n",
    "\n",
    "max_depth = 10\n",
    "\n",
    "coefs = [1] * n_trees\n",
    "\n",
    "eta = 1\n",
    "\n",
    "train_errors = []\n",
    "test_errors = []\n",
    "for val_depth in range(3, max_depth+1):\n",
    "    trees, temp_train_errors, temp_test_errors = gb_fit(n_trees, val_depth, X_train, X_test, y_train, y_test, coefs, eta)\n",
    "    \n",
    "    print(f'Расчёт для глубины деревьев {val_depth:>2} выполнен. Ошибка на трейне = {temp_train_errors[-1]:>8.3f}, \\\n",
    "ошибка на тесте = {temp_test_errors[-1]:>8.3f}')\n",
    "    \n",
    "    train_errors.append(temp_train_errors[-1])\n",
    "    test_errors.append(temp_test_errors[-1])"
   ]
  },
  {
   "cell_type": "code",
   "execution_count": 141,
   "metadata": {},
   "outputs": [],
   "source": [
    "def get_error_for_max_depth_plot(val_depth, train_err, test_err):\n",
    "    plt.xlabel('Maximum depth of trees')\n",
    "    plt.ylabel('MSE')\n",
    "    plt.xlim(2, val_depth+1)\n",
    "    plt.plot(list(range(3, val_depth+1)), train_err, label='train error')\n",
    "    plt.plot(list(range(3, val_depth+1)), test_err, label='test error')\n",
    "    plt.legend(loc='upper right')\n",
    "    plt.show()"
   ]
  },
  {
   "cell_type": "code",
   "execution_count": 144,
   "metadata": {},
   "outputs": [
    {
     "data": {
      "image/png": "[encoded data removed]",
      "text/plain": [
       "<Figure size 432x288 with 1 Axes>"
      ]
     },
     "metadata": {
      "needs_background": "light"
     },
     "output_type": "display_data"
    }
   ],
   "source": [
    "get_error_for_max_depth_plot(max_depth, train_errors, test_errors)"
   ]
  },
  {
   "cell_type": "markdown",
   "metadata": {},
   "source": [
    "*Расчёт для eta=0.1*"
   ]
  },
  {
   "cell_type": "code",
   "execution_count": 148,
   "metadata": {},
   "outputs": [
    {
     "name": "stdout",
     "output_type": "stream",
     "text": [
      "Расчёт для глубины деревьев  3 выполнен. Ошибка на трейне = 1325.311, ошибка на тесте = 3527.254\n",
      "Расчёт для глубины деревьев  4 выполнен. Ошибка на трейне =  705.979, ошибка на тесте = 3525.501\n",
      "Расчёт для глубины деревьев  5 выполнен. Ошибка на трейне =  306.111, ошибка на тесте = 3436.894\n",
      "Расчёт для глубины деревьев  6 выполнен. Ошибка на трейне =  121.687, ошибка на тесте = 3662.873\n",
      "Расчёт для глубины деревьев  7 выполнен. Ошибка на трейне =   25.061, ошибка на тесте = 3495.928\n",
      "Расчёт для глубины деревьев  8 выполнен. Ошибка на трейне =    6.129, ошибка на тесте = 4124.959\n",
      "Расчёт для глубины деревьев  9 выполнен. Ошибка на трейне =    2.071, ошибка на тесте = 4928.038\n",
      "Расчёт для глубины деревьев 10 выполнен. Ошибка на трейне =    1.062, ошибка на тесте = 4035.094\n",
      "Расчёт для глубины деревьев 11 выполнен. Ошибка на трейне =    1.045, ошибка на тесте = 4280.192\n",
      "Расчёт для глубины деревьев 12 выполнен. Ошибка на трейне =    0.981, ошибка на тесте = 3739.968\n",
      "Расчёт для глубины деревьев 13 выполнен. Ошибка на трейне =    0.985, ошибка на тесте = 5548.680\n",
      "Расчёт для глубины деревьев 14 выполнен. Ошибка на трейне =    0.968, ошибка на тесте = 5069.313\n",
      "Расчёт для глубины деревьев 15 выполнен. Ошибка на трейне =    0.966, ошибка на тесте = 5307.514\n"
     ]
    }
   ],
   "source": [
    "n_trees = 50\n",
    "\n",
    "max_depth = 15\n",
    "\n",
    "coefs = [1] * n_trees\n",
    "\n",
    "eta = 0.1\n",
    "\n",
    "train_errors = []\n",
    "test_errors = []\n",
    "for val_depth in range(3, max_depth+1):\n",
    "    trees, temp_train_errors, temp_test_errors = gb_fit(n_trees, val_depth, X_train, X_test, y_train, y_test, coefs, eta)\n",
    "    \n",
    "    print(f'Расчёт для глубины деревьев {val_depth:>2} выполнен. Ошибка на трейне = {temp_train_errors[-1]:>8.3f}, \\\n",
    "ошибка на тесте = {temp_test_errors[-1]:>8.3f}')\n",
    "    \n",
    "    train_errors.append(temp_train_errors[-1])\n",
    "    test_errors.append(temp_test_errors[-1])"
   ]
  },
  {
   "cell_type": "code",
   "execution_count": 147,
   "metadata": {},
   "outputs": [
    {
     "data": {
      "image/png": "[encoded data removed]",
      "text/plain": [
       "<Figure size 432x288 with 1 Axes>"
      ]
     },
     "metadata": {
      "needs_background": "light"
     },
     "output_type": "display_data"
    }
   ],
   "source": [
    "get_error_for_max_depth_plot(max_depth, train_errors, test_errors)"
   ]
  },
  {
   "cell_type": "code",
   "execution_count": null,
   "metadata": {},
   "outputs": [],
   "source": []
  }
 ],
 "metadata": {
  "kernelspec": {
   "display_name": "Python 3",
   "language": "python",
   "name": "python3"
  },
  "language_info": {
   "codemirror_mode": {
    "name": "ipython",
    "version": 3
   },
   "file_extension": ".py",
   "mimetype": "text/x-python",
   "name": "python",
   "nbconvert_exporter": "python",
   "pygments_lexer": "ipython3",
   "version": "3.7.3"
  }
 },
 "nbformat": 4,
 "nbformat_minor": 2
}
